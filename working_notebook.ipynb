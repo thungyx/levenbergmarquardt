{
 "cells": [
  {
   "cell_type": "markdown",
   "metadata": {},
   "source": [
    "## Dependencies"
   ]
  },
  {
   "cell_type": "code",
   "execution_count": 1,
   "metadata": {},
   "outputs": [],
   "source": [
    "using LinearAlgebra\n",
    "using ForwardDiff\n",
    "using Plots"
   ]
  },
  {
   "cell_type": "markdown",
   "metadata": {},
   "source": [
    "## Algorithms"
   ]
  },
  {
   "cell_type": "code",
   "execution_count": 2,
   "metadata": {},
   "outputs": [
    {
     "data": {
      "text/plain": [
       "gradient_descent (generic function with 1 method)"
      ]
     },
     "execution_count": 2,
     "metadata": {},
     "output_type": "execute_result"
    }
   ],
   "source": [
    "# Gradient Descent\n",
    "function gradient_descent(f, X, y, β_0, k_max, ϵ_tol)\n",
    "    k = 1; β = β_0;\n",
    "    J = ForwardDiff.jacobian(β -> f(X, β), β)\n",
    "    err = (y - f(X, β)) # m * 1\n",
    "    h = J' * err # n * 1\n",
    "    \n",
    "    # Store data\n",
    "    F_array = [err' * err]\n",
    "    h_array = [norm(h, Inf)]\n",
    "    β_array = β\n",
    "    \n",
    "    while (k < k_max) & (norm(h, Inf) > ϵ_tol)\n",
    "        α = 0.01 \n",
    "        β = vec(β + α * h) # n * 1\n",
    "        J = ForwardDiff.jacobian(β -> f(X, β), β)\n",
    "        err = (y - f(X, β))\n",
    "        h = J' * err # n * m x m * 1 = n * 1\n",
    "        \n",
    "        # update\n",
    "        F_array = vcat(F_array, err' * err)\n",
    "        h_array = vcat(h_array, norm(h, Inf))\n",
    "        β_array = hcat(β_array, β)\n",
    "        k += 1\n",
    "    end\n",
    "    return β, k, norm(h, Inf), F_array, h_array, β_array\n",
    "end"
   ]
  },
  {
   "cell_type": "code",
   "execution_count": 3,
   "metadata": {},
   "outputs": [
    {
     "data": {
      "text/plain": [
       "gauss_newton (generic function with 1 method)"
      ]
     },
     "execution_count": 3,
     "metadata": {},
     "output_type": "execute_result"
    }
   ],
   "source": [
    "# Gauss-Newton\n",
    "function gauss_newton(f, X, y, β_0, k_max, ϵ_tol)\n",
    "    k = 1; β = β_0; h = Inf\n",
    "    J = ForwardDiff.jacobian(β -> f(X, β), β)\n",
    "    err = (y - f(X, β)) # m * 1\n",
    "    g = J' * err # n * 1\n",
    "    \n",
    "    # Store data\n",
    "    F_array = [err' * err]\n",
    "    g_array = [norm(g, Inf)]\n",
    "    β_array = β\n",
    "    \n",
    "    while (k < k_max) & (norm(h, Inf) > ϵ_tol) & (norm(g, Inf) > ϵ_tol)        \n",
    "        h = (J' * J) \\ g # n * n x n * 1 = n * m x m * 1\n",
    "        β = vec(β + h) # n * 1\n",
    "        J = ForwardDiff.jacobian(β -> f(X, β), β)\n",
    "        err = (y - f(X, β)) # m * 1\n",
    "        g = J' * err # n * 1\n",
    "        \n",
    "        # update\n",
    "        F_array = vcat(F_array, err' * err)\n",
    "        g_array = vcat(g_array, norm(g, Inf))\n",
    "        β_array = hcat(β_array, β)\n",
    "        k += 1\n",
    "    end\n",
    "    return β, k, norm(h, Inf), norm(g, Inf), F_array, g_array, β_array\n",
    "end"
   ]
  },
  {
   "cell_type": "code",
   "execution_count": 4,
   "metadata": {},
   "outputs": [
    {
     "data": {
      "text/plain": [
       "lm_og (generic function with 1 method)"
      ]
     },
     "execution_count": 4,
     "metadata": {},
     "output_type": "execute_result"
    }
   ],
   "source": [
    "# LM\n",
    "function lm_og(f, X, y, β_0, k_max, ϵ_tol, τ_0)\n",
    "    k = 1; β = β_0; h = Inf; τ = τ_0\n",
    "    J = ForwardDiff.jacobian(β -> f(X, β), β)\n",
    "    Jev = 1\n",
    "    A = J' * J # n * n \n",
    "    λ = τ * maximum(Diagonal(J' * J))\n",
    "    err = (y - f(X, β)) # m * 1\n",
    "    g = J' * err # n * 1\n",
    "    F = (err' * err)\n",
    "    \n",
    "    # Store data\n",
    "    F_array = [F]\n",
    "    g_array = [norm(g, Inf)]\n",
    "    λ_array = [λ]\n",
    "    β_array = β\n",
    "    \n",
    "    while (k < k_max) & (norm(h, Inf) > ϵ_tol) & (norm(g, Inf) > ϵ_tol)\n",
    "        h = (A + λ * I) \\ g # n * n x n * 1 = n * m x m * 1 = n * 1 \n",
    "        β_new = vec(β + h) # n * 1\n",
    "        \n",
    "        # construct rho\n",
    "        err_h = (y - f(X, β_new)) # m * 1\n",
    "        F_h = (err_h' * err_h) # float\n",
    "        L = (h' * (λ * h + g)) # 1 * n x n * 1 = 1 * 1 \n",
    "        ρ = (F - F_h) / L # float\n",
    "        \n",
    "        if ρ > 0\n",
    "            β = β_new\n",
    "            J = ForwardDiff.jacobian(β -> f(X, β), β)\n",
    "            Jev += 1\n",
    "            A = J' * J # n * n \n",
    "            err = (y - f(X, β)) # m * 1\n",
    "            g = J' * err # n * 1\n",
    "            F = F_h\n",
    "        end\n",
    "        if ρ > 0.8\n",
    "            λ = λ / 3\n",
    "            # λ = max(λ / 9, 1e-7)\n",
    "        end\n",
    "        if ρ < 0.2\n",
    "            λ = λ * 2    \n",
    "            # λ = min(λ * 11, 1e7)\n",
    "        end\n",
    "        \n",
    "        # update\n",
    "        F_array = vcat(F_array, err' * err)\n",
    "        g_array = vcat(g_array, norm(g, Inf))\n",
    "        λ_array = vcat(λ_array, λ)\n",
    "        β_array = hcat(β_array, β)\n",
    "        k += 1\n",
    "    end\n",
    "    return β, k, norm(h, Inf), norm(g, Inf), Jev, F_array, g_array, λ_array, β_array\n",
    "end"
   ]
  },
  {
   "cell_type": "code",
   "execution_count": 5,
   "metadata": {},
   "outputs": [
    {
     "data": {
      "text/plain": [
       "lm_nielsen (generic function with 1 method)"
      ]
     },
     "execution_count": 5,
     "metadata": {},
     "output_type": "execute_result"
    }
   ],
   "source": [
    "# LM (N)\n",
    "function lm_nielsen(f, X, y, β_0, k_max, ϵ_tol, τ_0, ν)\n",
    "    k = 1; β = β_0; h = Inf; τ = τ_0\n",
    "    J = ForwardDiff.jacobian(β -> f(X, β), β)\n",
    "    Jev = 1\n",
    "    A = J' * J # n * n \n",
    "    λ = τ * maximum(Diagonal(J' * J))\n",
    "    err = (y - f(X, β)) # m * 1\n",
    "    g = J' * err # n * 1\n",
    "    F = (err' * err)\n",
    "    \n",
    "    # Store data\n",
    "    F_array = [F]\n",
    "    g_array = [norm(g, Inf)]\n",
    "    λ_array = [λ]\n",
    "    β_array = β\n",
    "    \n",
    "    while (k < k_max) & (norm(h, Inf) > ϵ_tol) & (norm(g, Inf) > ϵ_tol)\n",
    "        h = (A + λ * I) \\ g # n * n x n * 1 = n * m x m * 1 = n * 1 \n",
    "        β_new = vec(β + h) # n * 1\n",
    "        \n",
    "        # construct rho\n",
    "        err_h = (y - f(X, β_new)) # m * 1\n",
    "        F_h = (err_h' * err_h) # float\n",
    "        L = (h' * (λ * h + g)) # 1 * n x n * 1 = 1 * 1 \n",
    "        \n",
    "        ρ = (F - F_h) / L # float\n",
    "        if ρ > 0\n",
    "            β = β_new\n",
    "            J = ForwardDiff.jacobian(β -> f(X, β), β)\n",
    "            Jev += 1\n",
    "            A = J' * J # n * n \n",
    "            err = (y - f(X, β)) # m * 1\n",
    "            g = J' * err # n * 1\n",
    "            F = F_h\n",
    "            λ = λ * max(1/3, 1 - (2*ρ - 1)^3)\n",
    "            # λ = max(λ / 9, 1e-7)\n",
    "            ν = 2\n",
    "        else\n",
    "            # λ = min(λ * 11, 1e7)\n",
    "            λ = λ * ν\n",
    "            ν = 2 * ν\n",
    "        end\n",
    "        \n",
    "        # update\n",
    "        F_array = vcat(F_array, err' * err)\n",
    "        g_array = vcat(g_array, norm(g, Inf))\n",
    "        λ_array = vcat(λ_array, λ)\n",
    "        β_array = hcat(β_array, β)\n",
    "        k += 1\n",
    "    end\n",
    "    return β, k, norm(h, Inf), norm(g, Inf), Jev, F_array, g_array, λ_array, β_array\n",
    "end"
   ]
  },
  {
   "cell_type": "markdown",
   "metadata": {},
   "source": [
    "## Experiments"
   ]
  },
  {
   "cell_type": "markdown",
   "metadata": {},
   "source": [
    "#### 1. Linear function, full rank"
   ]
  },
  {
   "cell_type": "code",
   "execution_count": 6,
   "metadata": {},
   "outputs": [],
   "source": [
    "n = 4; m = 100;\n",
    "A = vcat(I(n) - 2*ones((n, n))/m, -2*ones((m-n,n))/m);\n",
    "b = -ones(n);\n",
    "\n",
    "lin_fr(A, b) = A * b - ones(m);\n",
    "y = A * b - ones(m);\n",
    "b_0 = ones(n);\n",
    "τ_0 = 1e-8;"
   ]
  },
  {
   "cell_type": "code",
   "execution_count": 7,
   "metadata": {},
   "outputs": [
    {
     "name": "stdout",
     "output_type": "stream",
     "text": [
      "  2.962983 seconds (10.25 M allocations: 782.661 MiB, 7.95% gc time, 94.02% compilation time)\n"
     ]
    }
   ],
   "source": [
    "@time gradient_descent(lin_fr, A, y, b_0, 10000, 1e-12);"
   ]
  },
  {
   "cell_type": "code",
   "execution_count": 8,
   "metadata": {},
   "outputs": [
    {
     "name": "stdout",
     "output_type": "stream",
     "text": [
      "  2.817575 seconds (10.82 M allocations: 564.300 MiB, 5.29% gc time, 99.92% compilation time)\n"
     ]
    }
   ],
   "source": [
    "@time gauss_newton(lin_fr, A, y, b_0, 10000, 1e-12);"
   ]
  },
  {
   "cell_type": "code",
   "execution_count": 9,
   "metadata": {},
   "outputs": [
    {
     "name": "stdout",
     "output_type": "stream",
     "text": [
      "  1.549266 seconds (6.07 M allocations: 326.495 MiB, 15.66% gc time, 99.85% compilation time)\n"
     ]
    }
   ],
   "source": [
    "@time lm_og(lin_fr, A, y, b_0, 10000, 1e-12, τ_0);"
   ]
  },
  {
   "cell_type": "code",
   "execution_count": 10,
   "metadata": {},
   "outputs": [
    {
     "name": "stdout",
     "output_type": "stream",
     "text": [
      "  1.366383 seconds (5.93 M allocations: 319.131 MiB, 6.81% gc time, 99.87% compilation time)\n"
     ]
    }
   ],
   "source": [
    "@time lm_nielsen(lin_fr, A, y, b_0, 10000, 1e-12, τ_0, 2);"
   ]
  },
  {
   "cell_type": "markdown",
   "metadata": {},
   "source": [
    "#### 2. Linear function, rank 1"
   ]
  },
  {
   "cell_type": "code",
   "execution_count": 11,
   "metadata": {},
   "outputs": [],
   "source": [
    "n = 4; m = 100;\n",
    "A = [i for i=1:m] * [i for i=1:n]';\n",
    "b = 3*ones(n)/(sum(1:n) * (2*m + 1));\n",
    "\n",
    "lin_r1(A, b) = A * b - ones(m);\n",
    "y = A * b - ones(m);\n",
    "b_0 = ones(n);\n",
    "τ_0 = 1e-8;"
   ]
  },
  {
   "cell_type": "code",
   "execution_count": 12,
   "metadata": {},
   "outputs": [
    {
     "name": "stdout",
     "output_type": "stream",
     "text": [
      "  1.277073 seconds (5.71 M allocations: 302.845 MiB, 7.19% gc time, 99.82% compilation time)\n"
     ]
    }
   ],
   "source": [
    "@time gradient_descent(lin_r1, A, y, b_0, 10000, 1e-12);"
   ]
  },
  {
   "cell_type": "code",
   "execution_count": 13,
   "metadata": {},
   "outputs": [
    {
     "ename": "LoadError",
     "evalue": "SingularException(2)",
     "output_type": "error",
     "traceback": [
      "SingularException(2)",
      "",
      "Stacktrace:",
      "  [1] checknonsingular",
      "    @ C:\\Users\\thung\\AppData\\Local\\Programs\\Julia-1.7.1\\share\\julia\\stdlib\\v1.7\\LinearAlgebra\\src\\factorization.jl:19 [inlined]",
      "  [2] checknonsingular",
      "    @ C:\\Users\\thung\\AppData\\Local\\Programs\\Julia-1.7.1\\share\\julia\\stdlib\\v1.7\\LinearAlgebra\\src\\factorization.jl:21 [inlined]",
      "  [3] #lu!#146",
      "    @ C:\\Users\\thung\\AppData\\Local\\Programs\\Julia-1.7.1\\share\\julia\\stdlib\\v1.7\\LinearAlgebra\\src\\lu.jl:82 [inlined]",
      "  [4] #lu#153",
      "    @ C:\\Users\\thung\\AppData\\Local\\Programs\\Julia-1.7.1\\share\\julia\\stdlib\\v1.7\\LinearAlgebra\\src\\lu.jl:279 [inlined]",
      "  [5] lu (repeats 2 times)",
      "    @ C:\\Users\\thung\\AppData\\Local\\Programs\\Julia-1.7.1\\share\\julia\\stdlib\\v1.7\\LinearAlgebra\\src\\lu.jl:278 [inlined]",
      "  [6] \\(A::Matrix{Float64}, B::Vector{Float64})",
      "    @ LinearAlgebra C:\\Users\\thung\\AppData\\Local\\Programs\\Julia-1.7.1\\share\\julia\\stdlib\\v1.7\\LinearAlgebra\\src\\generic.jl:1142",
      "  [7] gauss_newton(f::typeof(lin_r1), X::Matrix{Int64}, y::Vector{Float64}, β_0::Vector{Float64}, k_max::Int64, ϵ_tol::Float64)",
      "    @ Main .\\In[3]:14",
      "  [8] top-level scope",
      "    @ .\\timing.jl:220 [inlined]",
      "  [9] top-level scope",
      "    @ .\\In[13]:0",
      " [10] eval",
      "    @ .\\boot.jl:373 [inlined]",
      " [11] include_string(mapexpr::typeof(REPL.softscope), mod::Module, code::String, filename::String)",
      "    @ Base .\\loading.jl:1196"
     ]
    }
   ],
   "source": [
    "@time gauss_newton(lin_r1, A, y, b_0, 10000, 1e-12);"
   ]
  },
  {
   "cell_type": "code",
   "execution_count": 14,
   "metadata": {},
   "outputs": [
    {
     "name": "stdout",
     "output_type": "stream",
     "text": [
      "  1.281428 seconds (5.96 M allocations: 320.104 MiB, 6.75% gc time, 99.87% compilation time)\n"
     ]
    }
   ],
   "source": [
    "@time lm_og(lin_r1, A, y, b_0, 10000, 1e-12, τ_0);"
   ]
  },
  {
   "cell_type": "code",
   "execution_count": 15,
   "metadata": {},
   "outputs": [
    {
     "name": "stdout",
     "output_type": "stream",
     "text": [
      "  1.339572 seconds (5.96 M allocations: 320.297 MiB, 6.81% gc time, 99.87% compilation time)\n"
     ]
    }
   ],
   "source": [
    "@time lm_nielsen(lin_r1, A, y, b_0, 10000, 1e-12, τ_0, 2);"
   ]
  },
  {
   "cell_type": "markdown",
   "metadata": {},
   "source": [
    "#### 3. Rosenbrock function"
   ]
  },
  {
   "cell_type": "code",
   "execution_count": 16,
   "metadata": {},
   "outputs": [],
   "source": [
    "n = 2; m = 2;\n",
    "A = [10, 1];\n",
    "b = ones(n);\n",
    "\n",
    "rosenbrock(A, b) = [A[1]*(b[2] - b[1]^2), A[2] - b[1]];\n",
    "y = zeros(m);\n",
    "b_0 = [-1.2, 1];\n",
    "τ_0 = 1;"
   ]
  },
  {
   "cell_type": "code",
   "execution_count": 17,
   "metadata": {},
   "outputs": [
    {
     "name": "stdout",
     "output_type": "stream",
     "text": [
      "  2.109711 seconds (6.07 M allocations: 1.809 GiB, 11.34% gc time, 61.54% compilation time)\n"
     ]
    }
   ],
   "source": [
    "@time gradient_descent(rosenbrock, A, y, b_0, 10000, 1e-12);"
   ]
  },
  {
   "cell_type": "code",
   "execution_count": 18,
   "metadata": {},
   "outputs": [
    {
     "name": "stdout",
     "output_type": "stream",
     "text": [
      "  1.078819 seconds (5.32 M allocations: 289.932 MiB, 6.62% gc time, 99.91% compilation time)\n"
     ]
    }
   ],
   "source": [
    "@time gauss_newton(rosenbrock, A, y, b_0, 10000, 1e-12);"
   ]
  },
  {
   "cell_type": "code",
   "execution_count": 19,
   "metadata": {},
   "outputs": [
    {
     "name": "stdout",
     "output_type": "stream",
     "text": [
      "  1.114676 seconds (5.35 M allocations: 291.867 MiB, 6.56% gc time, 99.88% compilation time)\n"
     ]
    }
   ],
   "source": [
    "@time lm_og(rosenbrock, A, y, b_0, 10000, 1e-12, 1);"
   ]
  },
  {
   "cell_type": "code",
   "execution_count": 20,
   "metadata": {},
   "outputs": [
    {
     "name": "stdout",
     "output_type": "stream",
     "text": [
      "  1.124759 seconds (5.35 M allocations: 291.682 MiB, 7.16% gc time, 99.87% compilation time)\n"
     ]
    }
   ],
   "source": [
    "@time lm_nielsen(rosenbrock, A, y, b_0, 10000, 1e-12, 1, 2);"
   ]
  },
  {
   "cell_type": "markdown",
   "metadata": {},
   "source": [
    "#### 4. Powell singular function"
   ]
  },
  {
   "cell_type": "code",
   "execution_count": 21,
   "metadata": {},
   "outputs": [],
   "source": [
    "n = 4; m = 4;\n",
    "A = [10, sqrt(5), 2, sqrt(10)];\n",
    "b = zeros(n);\n",
    "\n",
    "powell(A, b) = [b[1] + A[1] * b[2], A[2] * (b[3] - b[4]), (b[2] - A[3] * b[3])^2, A[4] * (b[1] - b[4])];\n",
    "y = zeros(m);\n",
    "b_0 = [3, -1, 0, 1];\n",
    "τ_0 = 1e-8;"
   ]
  },
  {
   "cell_type": "code",
   "execution_count": 22,
   "metadata": {},
   "outputs": [
    {
     "name": "stdout",
     "output_type": "stream",
     "text": [
      "  2.308749 seconds (6.35 M allocations: 2.572 GiB, 11.10% gc time, 59.10% compilation time)\n"
     ]
    }
   ],
   "source": [
    "@time gradient_descent(powell, A, y, b_0, 10000, 1e-12);"
   ]
  },
  {
   "cell_type": "code",
   "execution_count": 23,
   "metadata": {},
   "outputs": [
    {
     "name": "stdout",
     "output_type": "stream",
     "text": [
      "  1.163380 seconds (5.38 M allocations: 292.778 MiB, 5.92% gc time, 99.90% compilation time)\n"
     ]
    }
   ],
   "source": [
    "@time gauss_newton(powell, A, y, b_0, 10000, 1e-12);"
   ]
  },
  {
   "cell_type": "code",
   "execution_count": 24,
   "metadata": {},
   "outputs": [
    {
     "name": "stdout",
     "output_type": "stream",
     "text": [
      "  1.176728 seconds (5.40 M allocations: 294.717 MiB, 4.95% gc time, 99.89% compilation time)\n"
     ]
    }
   ],
   "source": [
    "@time lm_og(powell, A, y, b_0, 10000, 1e-12, τ_0);"
   ]
  },
  {
   "cell_type": "code",
   "execution_count": 25,
   "metadata": {},
   "outputs": [
    {
     "name": "stdout",
     "output_type": "stream",
     "text": [
      "  1.290872 seconds (5.41 M allocations: 294.703 MiB, 7.38% gc time, 99.88% compilation time)\n"
     ]
    }
   ],
   "source": [
    "@time lm_nielsen(powell, A, y, b_0, 10000, 1e-12, τ_0, 2);"
   ]
  },
  {
   "cell_type": "markdown",
   "metadata": {},
   "source": [
    "#### 5. Freudenstein and Roth function"
   ]
  },
  {
   "cell_type": "code",
   "execution_count": 26,
   "metadata": {},
   "outputs": [],
   "source": [
    "n = 2; m = 2;\n",
    "A = [2, 5, 13, 14, 1, 29];\n",
    "b = [11.4128, -0.896805];\n",
    "\n",
    "fr(A, b) = [b[1] - b[2] * (A[1] - b[2] * (A[2] - b[2])) - A[3], b[1] - b[2] * (A[4] - b[2] * (A[5] + b[2])) - A[6]];\n",
    "y = zeros(m);\n",
    "b_0 = [0.5, -2];\n",
    "τ_0 = 1;"
   ]
  },
  {
   "cell_type": "code",
   "execution_count": 27,
   "metadata": {},
   "outputs": [
    {
     "name": "stdout",
     "output_type": "stream",
     "text": [
      "  1.224681 seconds (5.27 M allocations: 282.463 MiB, 6.50% gc time, 99.90% compilation time)\n"
     ]
    }
   ],
   "source": [
    "output = @time gradient_descent(fr, A, y, b_0, 10000, 1e-12);"
   ]
  },
  {
   "cell_type": "code",
   "execution_count": 28,
   "metadata": {},
   "outputs": [
    {
     "name": "stdout",
     "output_type": "stream",
     "text": [
      "  1.158789 seconds (5.33 M allocations: 290.386 MiB, 7.72% gc time, 99.88% compilation time)\n"
     ]
    }
   ],
   "source": [
    "output_gn = @time gauss_newton(fr, A, y, b_0, 10000, 1e-12);"
   ]
  },
  {
   "cell_type": "code",
   "execution_count": 29,
   "metadata": {},
   "outputs": [
    {
     "name": "stdout",
     "output_type": "stream",
     "text": [
      "  1.263207 seconds (5.36 M allocations: 292.238 MiB, 6.96% gc time, 99.88% compilation time)\n"
     ]
    }
   ],
   "source": [
    "output_og = @time lm_og(fr, A, y, b_0, 10000, 1e-12, τ_0);"
   ]
  },
  {
   "cell_type": "code",
   "execution_count": 30,
   "metadata": {},
   "outputs": [
    {
     "name": "stdout",
     "output_type": "stream",
     "text": [
      "  1.249051 seconds (5.36 M allocations: 292.074 MiB, 6.63% gc time, 99.87% compilation time)\n"
     ]
    }
   ],
   "source": [
    "output_n = @time lm_nielsen(fr, A, y, b_0, 1000, 1e-12, τ_0, 2);"
   ]
  },
  {
   "cell_type": "code",
   "execution_count": 31,
   "metadata": {},
   "outputs": [],
   "source": [
    "xs = range(-40, stop=60, length=100)\n",
    "ys = range(-5, stop=9, length=100)\n",
    "f(x,y) = log((x - y * (A[1] - y * (A[2] - y)) - A[3])^2 + (x - y * (A[4] - y * (A[5] + y)) - A[6])^2)\n",
    "zs = [f(x,y) for y in ys, x in xs]\n",
    "Plots.contour(xs, ys, zs, c = :acton)\n",
    "plot!(output_gn[7][1, :], output_gn[7][2, :], label = \"gn\", linecolor = \"red\")\n",
    "plot!(output_n[9][1, :], output_n[9][2, :], label = \"LM_n\", linecolor = \"blue\")\n",
    "plot!(output_og[9][1, :], output_og[9][2, :], label = \"LM\", linecolor = \"green\")\n",
    "Plots.savefig(\"contour.png\")"
   ]
  },
  {
   "cell_type": "markdown",
   "metadata": {},
   "source": [
    "#### 6. Bard function"
   ]
  },
  {
   "cell_type": "code",
   "execution_count": 32,
   "metadata": {},
   "outputs": [],
   "source": [
    "n = 3; m = 15;\n",
    "u = [i for i=1:m];\n",
    "v = [m + 1 - i for i=1:m];\n",
    "w = [min(u[i], v[i]) for i=1:m];\n",
    "A = hcat(u,v,w);\n",
    "b = [0.082411, 1.133036, 2.343695];\n",
    "\n",
    "bard(A, b) = b[1] .+ A[:, 1] ./ (b[2] .* A[:, 2] + b[3] .* A[:, 3]);\n",
    "y = [0.14, 0.18, 0.22, 0.25, 0.29, 0.32, 0.35, 0.39, 0.37, 0.58, 0.73, 0.96, 1.34, 2.10, 4.39];\n",
    "b_0 = ones(n);\n",
    "τ_0 = 1e-8;"
   ]
  },
  {
   "cell_type": "code",
   "execution_count": 33,
   "metadata": {},
   "outputs": [
    {
     "name": "stdout",
     "output_type": "stream",
     "text": [
      "  2.814852 seconds (7.11 M allocations: 2.262 GiB, 10.90% gc time, 62.88% compilation time)\n"
     ]
    }
   ],
   "source": [
    "@time gradient_descent(bard, A, y, b_0, 10000, 1e-12);"
   ]
  },
  {
   "cell_type": "code",
   "execution_count": 34,
   "metadata": {},
   "outputs": [
    {
     "name": "stdout",
     "output_type": "stream",
     "text": [
      "  1.608806 seconds (6.34 M allocations: 338.885 MiB, 5.53% gc time, 99.92% compilation time)\n"
     ]
    }
   ],
   "source": [
    "@time gauss_newton(bard, A, y, b_0, 10000, 1e-12);"
   ]
  },
  {
   "cell_type": "code",
   "execution_count": 35,
   "metadata": {},
   "outputs": [
    {
     "name": "stdout",
     "output_type": "stream",
     "text": [
      "  1.619609 seconds (6.36 M allocations: 340.438 MiB, 5.67% gc time, 99.92% compilation time)\n"
     ]
    }
   ],
   "source": [
    "@time lm_og(bard, A, y, b_0, 10000, 1e-12, τ_0);"
   ]
  },
  {
   "cell_type": "code",
   "execution_count": 36,
   "metadata": {},
   "outputs": [
    {
     "name": "stdout",
     "output_type": "stream",
     "text": [
      "  1.644711 seconds (6.37 M allocations: 340.672 MiB, 6.90% gc time, 99.92% compilation time)\n"
     ]
    }
   ],
   "source": [
    "@time lm_nielsen(bard, A, y, b_0, 10000, 1e-12, τ_0, 2);"
   ]
  },
  {
   "cell_type": "markdown",
   "metadata": {},
   "source": [
    "#### 7. Box 3-dimensional function"
   ]
  },
  {
   "cell_type": "code",
   "execution_count": 37,
   "metadata": {},
   "outputs": [],
   "source": [
    "n = 3; m = 100;\n",
    "A = [i/10 for i=1:m];\n",
    "b = [1, 10, 1];\n",
    "\n",
    "box3d(A, b) = exp.(-b[1] .* A) - exp.(-b[2] .* A) - b[3] .* (exp.(-A) - exp.(-10 .* A));\n",
    "y = zeros(m);\n",
    "b_0 = [0, 10, 20];\n",
    "τ_0 = 1e-8;"
   ]
  },
  {
   "cell_type": "code",
   "execution_count": 38,
   "metadata": {},
   "outputs": [
    {
     "name": "stdout",
     "output_type": "stream",
     "text": [
      "  2.614786 seconds (7.61 M allocations: 2.539 GiB, 10.29% gc time, 66.89% compilation time)\n"
     ]
    }
   ],
   "source": [
    "@time gradient_descent(box3d, A, y, b_0, 10000, 1e-12);"
   ]
  },
  {
   "cell_type": "code",
   "execution_count": 39,
   "metadata": {},
   "outputs": [
    {
     "name": "stdout",
     "output_type": "stream",
     "text": [
      "  1.561341 seconds (6.43 M allocations: 344.391 MiB, 5.93% gc time, 99.92% compilation time)\n"
     ]
    }
   ],
   "source": [
    "@time gauss_newton(box3d, A, y, b_0, 10000, 1e-12);"
   ]
  },
  {
   "cell_type": "code",
   "execution_count": 40,
   "metadata": {},
   "outputs": [
    {
     "name": "stdout",
     "output_type": "stream",
     "text": [
      "  1.621585 seconds (6.46 M allocations: 346.540 MiB, 6.50% gc time, 99.91% compilation time)\n"
     ]
    }
   ],
   "source": [
    "@time lm_og(box3d, A, y, b_0, 10000, 1e-12, τ_0);"
   ]
  },
  {
   "cell_type": "code",
   "execution_count": 41,
   "metadata": {},
   "outputs": [
    {
     "name": "stdout",
     "output_type": "stream",
     "text": [
      "  1.650004 seconds (6.47 M allocations: 346.660 MiB, 6.55% gc time, 99.90% compilation time)\n"
     ]
    }
   ],
   "source": [
    "@time lm_nielsen(box3d, A, y, b_0, 10000, 1e-12, τ_0, 2);"
   ]
  },
  {
   "cell_type": "markdown",
   "metadata": {},
   "source": [
    "#### 8. Jennrich and Sampson function\n",
    "\n",
    "m = 5"
   ]
  },
  {
   "cell_type": "code",
   "execution_count": 42,
   "metadata": {},
   "outputs": [],
   "source": [
    "n = 2; m = 5;\n",
    "A = [i for i=1:m];\n",
    "b = [0.378468, 0.378468];\n",
    "\n",
    "js(A, b) = 2 .+ 2 .* A - (exp.(b[1] .* A) + exp.(b[2] .* A));\n",
    "y = zeros(m);\n",
    "b_0 = [0.3, 0.4];\n",
    "τ_0 = 1;"
   ]
  },
  {
   "cell_type": "code",
   "execution_count": 43,
   "metadata": {},
   "outputs": [
    {
     "name": "stdout",
     "output_type": "stream",
     "text": [
      "  2.117393 seconds (7.01 M allocations: 368.920 MiB, 5.86% gc time, 99.93% compilation time)\n"
     ]
    }
   ],
   "source": [
    "@time gradient_descent(js, A, y, b_0, 10000, 1e-12);"
   ]
  },
  {
   "cell_type": "code",
   "execution_count": 44,
   "metadata": {},
   "outputs": [
    {
     "name": "stdout",
     "output_type": "stream",
     "text": [
      "  1.937215 seconds (6.60 M allocations: 352.344 MiB, 6.37% gc time, 99.92% compilation time)\n"
     ]
    }
   ],
   "source": [
    "@time gauss_newton(js, A, y, b_0, 10000, 1e-12);"
   ]
  },
  {
   "cell_type": "code",
   "execution_count": 45,
   "metadata": {},
   "outputs": [
    {
     "name": "stdout",
     "output_type": "stream",
     "text": [
      "  1.786072 seconds (6.63 M allocations: 354.171 MiB, 6.03% gc time, 99.92% compilation time)\n"
     ]
    }
   ],
   "source": [
    "@time lm_og(js, A, y, b_0, 10000, 1e-12, τ_0);"
   ]
  },
  {
   "cell_type": "code",
   "execution_count": 46,
   "metadata": {},
   "outputs": [
    {
     "name": "stdout",
     "output_type": "stream",
     "text": [
      "  1.745220 seconds (6.63 M allocations: 354.061 MiB, 4.98% gc time, 99.92% compilation time)\n"
     ]
    }
   ],
   "source": [
    "@time lm_nielsen(js, A, y, b_0, 10000, 1e-12, τ_0, 2);"
   ]
  },
  {
   "cell_type": "markdown",
   "metadata": {},
   "source": [
    "m = 10"
   ]
  },
  {
   "cell_type": "code",
   "execution_count": 47,
   "metadata": {},
   "outputs": [],
   "source": [
    "n = 2; m = 10;\n",
    "A = [i for i=1:m];\n",
    "b = [0.257825, 0.257825];\n",
    "\n",
    "js(A, b) = 2 .+ 2 .* A - (exp.(b[1] .* A) + exp.(b[2] .* A));\n",
    "y = zeros(m);\n",
    "b_0 = [0.3, 0.4];\n",
    "τ_0 = 1;"
   ]
  },
  {
   "cell_type": "code",
   "execution_count": 48,
   "metadata": {},
   "outputs": [
    {
     "name": "stdout",
     "output_type": "stream",
     "text": [
      "  0.319503 seconds (914.72 k allocations: 51.768 MiB, 6.64% gc time, 99.95% compilation time)\n"
     ]
    }
   ],
   "source": [
    "@time gradient_descent(js, A, y, b_0, 10000, 1e-12);"
   ]
  },
  {
   "cell_type": "code",
   "execution_count": 49,
   "metadata": {},
   "outputs": [
    {
     "name": "stdout",
     "output_type": "stream",
     "text": [
      "  0.339657 seconds (972.23 k allocations: 60.386 MiB, 6.00% gc time, 99.93% compilation time)\n"
     ]
    }
   ],
   "source": [
    "@time gauss_newton(js, A, y, b_0, 10000, 1e-12);"
   ]
  },
  {
   "cell_type": "code",
   "execution_count": 50,
   "metadata": {
    "scrolled": true
   },
   "outputs": [
    {
     "name": "stdout",
     "output_type": "stream",
     "text": [
      "  0.357669 seconds (1.00 M allocations: 62.170 MiB, 5.26% gc time, 99.90% compilation time)\n"
     ]
    }
   ],
   "source": [
    "@time lm_og(js, A, y, b_0, 10000, 1e-12, τ_0);"
   ]
  },
  {
   "cell_type": "code",
   "execution_count": 51,
   "metadata": {},
   "outputs": [
    {
     "name": "stdout",
     "output_type": "stream",
     "text": [
      "  0.349212 seconds (1.00 M allocations: 62.117 MiB, 3.80% gc time, 99.89% compilation time)\n"
     ]
    }
   ],
   "source": [
    "@time lm_nielsen(js, A, y, b_0, 10000, 1e-12, τ_0, 2);"
   ]
  },
  {
   "cell_type": "markdown",
   "metadata": {},
   "source": [
    "m = 20"
   ]
  },
  {
   "cell_type": "code",
   "execution_count": 52,
   "metadata": {},
   "outputs": [],
   "source": [
    "n = 2; m = 20;\n",
    "A = [i for i=1:m];\n",
    "b = [0.165191, 0.165191];\n",
    "\n",
    "js(A, b) = 2 .+ 2 .* A - (exp.(b[1] .* A) + exp.(b[2] .* A));\n",
    "y = zeros(m);\n",
    "b_0 = [0.3, 0.4];\n",
    "τ_0 = 1;"
   ]
  },
  {
   "cell_type": "code",
   "execution_count": 53,
   "metadata": {},
   "outputs": [
    {
     "name": "stdout",
     "output_type": "stream",
     "text": [
      "  0.309627 seconds (914.70 k allocations: 51.770 MiB, 99.95% compilation time)\n"
     ]
    }
   ],
   "source": [
    "@time gradient_descent(js, A, y, b_0, 10000, 1e-12);"
   ]
  },
  {
   "cell_type": "code",
   "execution_count": 54,
   "metadata": {},
   "outputs": [
    {
     "name": "stdout",
     "output_type": "stream",
     "text": [
      "  0.343976 seconds (972.01 k allocations: 60.373 MiB, 3.84% gc time, 99.94% compilation time)\n"
     ]
    }
   ],
   "source": [
    "@time gauss_newton(js, A, y, b_0, 10000, 1e-12);"
   ]
  },
  {
   "cell_type": "code",
   "execution_count": 55,
   "metadata": {},
   "outputs": [
    {
     "name": "stdout",
     "output_type": "stream",
     "text": [
      "  0.361539 seconds (999.99 k allocations: 62.192 MiB, 3.79% gc time, 99.90% compilation time)\n"
     ]
    }
   ],
   "source": [
    "@time lm_og(js, A, y, b_0, 10000, 1e-12, τ_0);"
   ]
  },
  {
   "cell_type": "code",
   "execution_count": 56,
   "metadata": {},
   "outputs": [
    {
     "name": "stdout",
     "output_type": "stream",
     "text": [
      "  0.350415 seconds (1.00 M allocations: 62.203 MiB, 3.73% gc time, 99.88% compilation time)\n"
     ]
    }
   ],
   "source": [
    "@time lm_nielsen(js, A, y, b_0, 10000, 1e-12, τ_0, 2);"
   ]
  },
  {
   "cell_type": "markdown",
   "metadata": {},
   "source": [
    "#### 9. Osborne 1 function"
   ]
  },
  {
   "cell_type": "code",
   "execution_count": 57,
   "metadata": {},
   "outputs": [],
   "source": [
    "n = 5; m = 33;\n",
    "A = [10 * (i - 1) for i=1:m];\n",
    "b = [0.37541, 1.93585, -1.46469, 0.01287, 0.02212];\n",
    "\n",
    "osborne(A, b) = b[1] .+ b[2] .* exp.(-b[4] .* A) + b[3] .* exp.(-b[5] .* A);\n",
    "y = [0.844, 0.908, 0.932, 0.936, 0.925, 0.908, 0.881, 0.850, 0.818, 0.784, 0.751, 0.718, 0.685, 0.658, 0.628, 0.603, 0.580, 0.558, 0.538, 0.522, 0.506, 0.490, 0.478, 0.467, 0.457, 0.448, 0.438, 0.431, 0.424, 0.420, 0.414, 0.411, 0.406];\n",
    "b_0 = [0.5, 1.5, -1, 0.01, 0.02];\n",
    "τ_0 = 1e-8;"
   ]
  },
  {
   "cell_type": "code",
   "execution_count": 58,
   "metadata": {},
   "outputs": [
    {
     "name": "stdout",
     "output_type": "stream",
     "text": [
      "  2.855519 seconds (7.27 M allocations: 3.056 GiB, 11.26% gc time, 62.92% compilation time)\n"
     ]
    }
   ],
   "source": [
    "@time gradient_descent(osborne, A, y, b_0, 10000, 1e-12);"
   ]
  },
  {
   "cell_type": "code",
   "execution_count": 59,
   "metadata": {},
   "outputs": [
    {
     "name": "stdout",
     "output_type": "stream",
     "text": [
      "  1.700250 seconds (6.64 M allocations: 352.596 MiB, 4.58% gc time, 99.91% compilation time)\n"
     ]
    }
   ],
   "source": [
    "@time gauss_newton(osborne, A, y, b_0, 10000, 1e-12);"
   ]
  },
  {
   "cell_type": "code",
   "execution_count": 60,
   "metadata": {},
   "outputs": [
    {
     "name": "stdout",
     "output_type": "stream",
     "text": [
      "  1.732004 seconds (6.66 M allocations: 354.217 MiB, 6.74% gc time, 99.91% compilation time)\n"
     ]
    }
   ],
   "source": [
    "@time lm_og(osborne, A, y, b_0, 10000, 1e-12, τ_0);"
   ]
  },
  {
   "cell_type": "code",
   "execution_count": 61,
   "metadata": {},
   "outputs": [
    {
     "name": "stdout",
     "output_type": "stream",
     "text": [
      "  1.776092 seconds (6.67 M allocations: 358.453 MiB, 5.93% gc time, 99.91% compilation time)\n"
     ]
    }
   ],
   "source": [
    "@time lm_nielsen(osborne, A, y, b_0, 10000, 1e-12, τ_0, 2);"
   ]
  },
  {
   "cell_type": "markdown",
   "metadata": {},
   "source": [
    "#### 10. Exponential fit, 4 parameters"
   ]
  },
  {
   "cell_type": "code",
   "execution_count": 62,
   "metadata": {},
   "outputs": [],
   "source": [
    "n = 4; m = 45;\n",
    "A = [0.02 * i for i=1:m];\n",
    "b = [-4, -5, 4, -4];\n",
    "\n",
    "exp4(A, b) = b[3] .* exp.(-b[1] .* A) + b[4] .* exp.(-b[2] .* A);\n",
    "y = b[3] .* exp.(-b[1] .* A) + b[4] .* exp.(-b[2] .* A)\n",
    "b_0 = [-1, -2, 1, -1];\n",
    "τ_0 = 1e-3;"
   ]
  },
  {
   "cell_type": "code",
   "execution_count": 63,
   "metadata": {},
   "outputs": [
    {
     "name": "stdout",
     "output_type": "stream",
     "text": [
      "  1.617788 seconds (6.22 M allocations: 327.387 MiB, 6.57% gc time, 99.92% compilation time)\n"
     ]
    }
   ],
   "source": [
    "@time gradient_descent(exp4, A, y, b_0, 10000, 1e-12);"
   ]
  },
  {
   "cell_type": "code",
   "execution_count": 64,
   "metadata": {},
   "outputs": [
    {
     "name": "stdout",
     "output_type": "stream",
     "text": [
      "  1.596154 seconds (6.19 M allocations: 331.271 MiB, 5.04% gc time, 99.92% compilation time)\n"
     ]
    }
   ],
   "source": [
    "@time gauss_newton(exp4, A, y, b_0, 10000, 1e-12);"
   ]
  },
  {
   "cell_type": "code",
   "execution_count": 65,
   "metadata": {},
   "outputs": [
    {
     "name": "stdout",
     "output_type": "stream",
     "text": [
      "  1.851839 seconds (6.66 M allocations: 360.343 MiB, 6.56% gc time, 99.64% compilation time)\n"
     ]
    }
   ],
   "source": [
    "output_og = @time lm_og(exp4, A, y, b_0, 10000, 1e-12, τ_0);"
   ]
  },
  {
   "cell_type": "code",
   "execution_count": 69,
   "metadata": {},
   "outputs": [],
   "source": [
    "plot([i for i=1:output_og[2]], hcat(output_og[6], output_og[7], output_og[8]), yaxis=:log, label = [\"F\" \"||g||\" \"λ\"], seriestype = :scatter, title = \"Original\", fmt = :png)\n",
    "Plots.savefig(\"original.png\")"
   ]
  },
  {
   "cell_type": "code",
   "execution_count": 67,
   "metadata": {},
   "outputs": [
    {
     "name": "stdout",
     "output_type": "stream",
     "text": [
      "  1.669776 seconds (6.23 M allocations: 336.255 MiB, 6.22% gc time, 99.79% compilation time)\n"
     ]
    }
   ],
   "source": [
    "output_n = @time lm_nielsen(exp4, A, y, b_0, 10000, 1e-12, τ_0, 2);"
   ]
  },
  {
   "cell_type": "code",
   "execution_count": 68,
   "metadata": {},
   "outputs": [],
   "source": [
    "plot([i for i=1:output_n[2]], hcat(output_n[6], output_n[7], output_n[8]), yaxis=:log, label = [\"F\" \"||g||\" \"λ\"], seriestype = :scatter, title = \"Nielsen\", fmt = :png)\n",
    "Plots.savefig(\"nielsen.png\")"
   ]
  }
 ],
 "metadata": {
  "kernelspec": {
   "display_name": "Julia 1.7.1",
   "language": "julia",
   "name": "julia-1.7"
  },
  "language_info": {
   "file_extension": ".jl",
   "mimetype": "application/julia",
   "name": "julia",
   "version": "1.7.1"
  }
 },
 "nbformat": 4,
 "nbformat_minor": 4
}
